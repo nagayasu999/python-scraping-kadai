{
  "nbformat": 4,
  "nbformat_minor": 0,
  "metadata": {
    "colab": {
      "provenance": []
    },
    "kernelspec": {
      "name": "python3",
      "display_name": "Python 3"
    },
    "language_info": {
      "name": "python"
    }
  },
  "cells": [
    {
      "cell_type": "code",
      "execution_count": 2,
      "metadata": {
        "colab": {
          "base_uri": "https://localhost:8080/"
        },
        "id": "PUmUQaTzEaKN",
        "outputId": "eacfb3ac-abf9-4620-a490-05832cc53502"
      },
      "outputs": [
        {
          "output_type": "stream",
          "name": "stdout",
          "text": [
            "Requirement already satisfied: requests in /usr/local/lib/python3.10/dist-packages (2.32.3)\n",
            "Requirement already satisfied: beautifulsoup4 in /usr/local/lib/python3.10/dist-packages (4.12.3)\n",
            "Requirement already satisfied: charset-normalizer<4,>=2 in /usr/local/lib/python3.10/dist-packages (from requests) (3.3.2)\n",
            "Requirement already satisfied: idna<4,>=2.5 in /usr/local/lib/python3.10/dist-packages (from requests) (3.7)\n",
            "Requirement already satisfied: urllib3<3,>=1.21.1 in /usr/local/lib/python3.10/dist-packages (from requests) (2.0.7)\n",
            "Requirement already satisfied: certifi>=2017.4.17 in /usr/local/lib/python3.10/dist-packages (from requests) (2024.7.4)\n",
            "Requirement already satisfied: soupsieve>1.2 in /usr/local/lib/python3.10/dist-packages (from beautifulsoup4) (2.6)\n"
          ]
        }
      ],
      "source": [
        "!pip install requests beautifulsoup4\n",
        "import requests\n",
        "from bs4 import BeautifulSoup"
      ]
    },
    {
      "cell_type": "code",
      "source": [
        "url = \"https://news.yahoo.co.jp/articles/104f5cb467ff61cac96518aa44688485e39c6fe4\""
      ],
      "metadata": {
        "id": "74YkOlTuFzX1"
      },
      "execution_count": 3,
      "outputs": []
    },
    {
      "cell_type": "code",
      "source": [
        "response = requests.get(url)"
      ],
      "metadata": {
        "id": "s4KdR1yGF5fj"
      },
      "execution_count": 7,
      "outputs": []
    },
    {
      "cell_type": "code",
      "source": [
        "soup = BeautifulSoup(response.text, 'html.parser')"
      ],
      "metadata": {
        "id": "lmn0FgK9GXNO"
      },
      "execution_count": 8,
      "outputs": []
    },
    {
      "cell_type": "code",
      "source": [
        "sentences = soup.select('#uamods>.article_body>div>p')\n",
        "\n",
        "for sentence in sentences:\n",
        "    print(sentence.text)\n",
        ""
      ],
      "metadata": {
        "colab": {
          "base_uri": "https://localhost:8080/"
        },
        "id": "_Ksx-Xe7JN1p",
        "outputId": "bffdfede-7435-43dc-b526-c7500ddce6ad"
      },
      "execution_count": 29,
      "outputs": [
        {
          "output_type": "stream",
          "name": "stdout",
          "text": [
            "非常に強い台風10号は、29日(木)午後～30日(金)にかけて史上最強クラスの勢力で九州に上陸するおそれ。鹿児島県には台風を要因とする「暴風・波浪・高潮の特別警報」が発表されています。また、西日本と奄美地方では、29日(木)にかけて線状降水帯が発生し、大雨災害の危険度が急激に高まるおそれがあります。夜間に甚大な災害が起こるおそれがあるため最大級の警戒が必要です。\n",
            "非常に強い台風10号は、28日17時現在、中心気圧が935hPa、最大風速50メートル、最大瞬間風速70メートルで、屋久島の西の海上を北へゆっくりと進んでいます。鹿児島県の大隈地方が風速25メートル以上の暴風域に入りました。\n",
            "\n",
            "非常に強い台風10号は、発達のピークのまま29日(木)午後～30日(金)にかけて九州に接近・上陸、その後、西日本・東日本を縦断するおそれがあります。\n",
            "\n",
            "上陸時(直前)の中心気圧が低い台風のランキングをみると、1951年以降、中心気圧が940hPa未満で上陸した台風は、伊勢湾台風(中心気圧929hPa)など含め4個しかありません。最近では、2022年の台風14号が940hPaで鹿児島市付近に上陸。鹿児島県に「暴風・波浪・高潮」の特別警報が沖縄以外ではじめて発表されました。\n",
            "\n",
            "今回の台風10号も、過去最強レベルの勢力で接近・上陸するおそれがあるため警戒が必要です。\n",
            "\n",
            "気象庁は28日13時、鹿児島県(薩摩、大隅、種子島、屋久島地方)に台風を要因とする「暴風・波浪特別警報」を、16時20分には鹿児島県(薩摩地方)に「高潮特別警報」を発表しました。経験したことのないような暴風・高波・高潮のおそれがあるため最大限の警戒が必要です。\n",
            "\n",
            "台風の進む速度がゆっくりであるため、西日本・東日本を中心に記録的な雨量となるおそれがあるため厳重な警戒が必要です。\n",
            "台風の接近に伴い、奄美と九州南部では最大瞬間風速70メートルと、一部の家屋が倒壊するレベルの暴風が吹き荒れる見込みです。奄美では29日(木)にかけて、西日本では30日(金)にかけて、猛烈な風が吹き荒れるでしょう。\n",
            "\n",
            "風が強まる前に頑丈な建物の中に移動するとともに、屋内では窓から離れるなど暴風に厳重に警戒してください。停電のエリアが広がる可能性もあり、備えが必要です。\n",
            "\n",
            "奄美地方と西日本では、29日にかけてうねりを伴い猛烈なしけとなる所があるでしょう。その後も、西日本を中心に猛烈なしけ、高波、満潮時を中心に高潮にも厳重な警戒が必要です。\n",
            "\n",
            "【28日に予想される最大風速(最大瞬間風速)】\n",
            "四国地方　　　18メートル(30メートル)\n",
            "九州北部地方　20メートル(30メートル)\n",
            "九州南部　　　50メートル(70メートル)\n",
            "奄美地方　　　50メートル(70メートル)\n",
            "【29日に予想される最大風速(最大瞬間風速)】\n",
            "中国地方　　　18メートル(30メートル)\n",
            "四国地方　　　25メートル(35メートル)\n",
            "九州北部地方　40メートル(60メートル)\n",
            "九州南部　　　50メートル(70メートル)\n",
            "奄美地方　　　40メートル(60メートル)\n",
            "【30日に予想される最大風速(最大瞬間風速)】\n",
            "東海地方　　　22メートル(35メートル)\n",
            "近畿地方　　　25メートル(35メートル)\n",
            "中国地方　　　25メートル(35メートル)\n",
            "四国地方　　　30メートル(45メートル)\n",
            "九州北部地方　40メートル(60メートル)\n",
            "九州南部　　　35メートル(50メートル)\n",
            "その後も、西日本から東日本では非常に強い風が吹くおそれがあるため警戒が必要です。\n"
          ]
        }
      ]
    }
  ]
}